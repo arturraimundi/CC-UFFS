{
 "cells": [
  {
   "cell_type": "markdown",
   "metadata": {
    "id": "jTBZ5hxpCuM3"
   },
   "source": [
    "# Comandos condicionais ou de decisão\n",
    "---"
   ]
  },
  {
   "cell_type": "markdown",
   "metadata": {
    "id": "IbhvWGUaUpVA"
   },
   "source": [
    "Comandos condicionais ou de decisão permitem alterar o fluxo do algoritmo baseado em certas condições.\n",
    "\n",
    "Os comandos condicionais avaliam expressões booleanas (valores booleanos, variáveis do tipo `bool`, expressões relacionais ou lógicas)."
   ]
  },
  {
   "cell_type": "markdown",
   "metadata": {
    "id": "Hvj5tVqk2Fys"
   },
   "source": [
    "## if (se)\n",
    "---\n"
   ]
  },
  {
   "cell_type": "markdown",
   "metadata": {
    "id": "04s6zLJP0NWo"
   },
   "source": [
    "O comando `if` segue a seguinte sintaxe.\n",
    "\n",
    "```python\n",
    "if expressao_booleana:\n",
    "    # Código recuado (indentado) que será executado apenas se a expressao_booleana for avaliada como verdadeira\n",
    "# Código que será executado após condicional (seja verdadeira ou falsa)\n"
   ]
  },
  {
   "cell_type": "markdown",
   "metadata": {
    "id": "zKZAYQ163ZFx"
   },
   "source": [
    "Note que ao usar o comando `if` cria-se um bloco de código (pode ser uma ou mais linhas) que deve estar recuado a partir do alinhamento do comando `if`. Dizemos que esse bloco é de escopo local, definido pela condicional, e que sua execução está condicionada à a valiação da expressão booleana repassada.\n",
    "\n",
    "**Importante** notar que o bloco de comandos deve possuir uma indentação padronizada para que o interpretador da linguagem Python o reconheça."
   ]
  },
  {
   "cell_type": "code",
   "execution_count": null,
   "metadata": {
    "id": "snIdFUQ71d82"
   },
   "outputs": [],
   "source": [
    "valor = 10.25\n",
    "desconto = False\n",
    "if desconto:\n",
    "    valor = valor * 0.9 # Aplica 10% de desconto no valor\n",
    "print(f\"O valor final do produto é de R${valor}\")\n",
    "desconto = True\n",
    "if desconto:\n",
    "    valor = valor * 0.9\n",
    "print(f\"O valor final do produto é de R${valor}\")"
   ]
  },
  {
   "cell_type": "code",
   "execution_count": null,
   "metadata": {
    "id": "JxDC3q_5ZACF"
   },
   "outputs": [],
   "source": [
    "num = int(input(\"Digite um número inteiro: \"))\n",
    "if num % 2 == 0:\n",
    "    print(\"O número é múltiplo de 2\")\n",
    "if num % 3 == 0:\n",
    "    print(\"O número é múltiplo de 3\")\n",
    "if num % 4 == 0:\n",
    "    print(\"O número é múltiplo de 4\")\n",
    "if num % 5 == 0:\n",
    "    print(\"O número é múltiplo de 5\")"
   ]
  },
  {
   "cell_type": "markdown",
   "metadata": {
    "id": "fvS8sEgpgOfF"
   },
   "source": [
    "Em Python, usamos espaços (2 a 4 geralmente) ou tabulações (tabs) para recuar e delimitar um bloco de comandos local.\n",
    "\n",
    "Nem todas as linguagens de programação exigem a indentação (os blocos locais são definidos com caracteres especiais tais como chaves em C e Java). Ainda assim, a indentação dos blocos locais é considerada uma boa prática, pois ajuda a ressaltar a estrutura do programa, aumentando assim a legibilidade do código.\n",
    "\n",
    "Apesar de não haver um número exato de espaços a ser utilizado, é essencial que seja estabelecido um padrão dentro de um mesmo programa para evitar confusões de interpretação ou erros."
   ]
  },
  {
   "cell_type": "markdown",
   "metadata": {
    "id": "x-yRBnH3I3Kd"
   },
   "source": [
    "## else (senão)\n",
    "---"
   ]
  },
  {
   "cell_type": "markdown",
   "metadata": {
    "id": "S9qRfLWZzwHf"
   },
   "source": [
    "O comando `else` não avalia uma expressão booleana, por isso ele sempre deve ser sempre precedido de um comando `if` na mesma indentação.\n",
    "\n",
    "```python\n",
    "if expressao_booleana:\n",
    "    # Código recuado (indentado) que será executado apenas se a expressao_booleana for avaliada como verdadeira\n",
    "else:\n",
    "    # Código recuado (indentado) que será executado apenas se a expressao_booleana for avaliada como falsa\n",
    "# Código que será executado após condicional (seja verdadeira ou falsa)\n",
    "```"
   ]
  },
  {
   "cell_type": "markdown",
   "metadata": {
    "id": "RDnZb8hj5wE5"
   },
   "source": [
    "Utilizamos o comando `if` acompanhado do comando `else` quando precisamos executar um bloco de comandos apenas quando a expressão booleana avaliada for verdadeira e outro bloco apenas quando esta for falsa."
   ]
  },
  {
   "cell_type": "code",
   "execution_count": null,
   "metadata": {
    "id": "5tIIKhmGCuNE"
   },
   "outputs": [],
   "source": [
    "a = -2\n",
    "if a > 0:\n",
    "    print(\"É maior que zero\")\n",
    "else:\n",
    "    print(\"É menor ou igual a zero\")\n",
    "print(\"É um número\")"
   ]
  },
  {
   "cell_type": "code",
   "execution_count": null,
   "metadata": {
    "id": "kntv2gj6zwmu"
   },
   "outputs": [],
   "source": [
    "y = 5\n",
    "x = -3\n",
    "if x > y:\n",
    "    print(\"x é maior que y\")\n",
    "else:\n",
    "    print(\"x é menor ou igual y\")"
   ]
  },
  {
   "cell_type": "code",
   "execution_count": null,
   "metadata": {
    "id": "2T6N6UwO_tTx"
   },
   "outputs": [],
   "source": [
    "y = 5\n",
    "x = -3\n",
    "if x > 0 and y > 0:\n",
    "    print(\"Os dois valores são positivos\")\n",
    "else:\n",
    "    print(\"Um dos valores não é positivo\")"
   ]
  },
  {
   "cell_type": "markdown",
   "metadata": {
    "id": "sUpZoMuJ7dzQ"
   },
   "source": [
    "### Exercício 1: usando os comandos condicionais solicite para o usuário o ano, mês e dia de seu nascimento (use três variáveis para armazenar os valores) e, usando os comandos condicionais, calcule e imprima a sua idade em anos."
   ]
  },
  {
   "cell_type": "code",
   "execution_count": 4,
   "metadata": {
    "colab": {
     "base_uri": "https://localhost:8080/"
    },
    "executionInfo": {
     "elapsed": 163732,
     "status": "ok",
     "timestamp": 1757372908715,
     "user": {
      "displayName": "Artur Raimundi",
      "userId": "08927661116085333345"
     },
     "user_tz": 180
    },
    "id": "Aom2-hdT7eha",
    "outputId": "bebe6374-152e-4962-9734-55df8cc1f898"
   },
   "outputs": [
    {
     "name": "stdout",
     "output_type": "stream",
     "text": [
      "1\n",
      "1\n",
      "1\n",
      "2024\n"
     ]
    }
   ],
   "source": [
    "# Resolução do exercício 1\n",
    "ano = int(input(\"\"))\n",
    "mes = int(input(\"\"))\n",
    "dia = int(input(\"\"))\n",
    "\n",
    "if mes <= 9:\n",
    "    if dia <=8:\n",
    "        print(2025-ano)\n",
    "    else:\n",
    "        print(2024-ano)\n",
    "else:\n",
    "    print(2024-ano)"
   ]
  },
  {
   "cell_type": "markdown",
   "metadata": {
    "id": "0WHWF3iK7cmJ"
   },
   "source": [
    "## Operador Ternário\n",
    "---\n"
   ]
  },
  {
   "cell_type": "markdown",
   "metadata": {
    "id": "4GqN_sD98NUi"
   },
   "source": [
    "É uma forma alternativa de definir um par de comandos `if` e `else` em uma única linha.\n",
    "\n",
    "```python\n",
    "bloco_1 if expressao_booleana else bloco_2\n",
    "```\n",
    "\n",
    "Interpreta-se a condicional acima da seguinte forma:\n",
    "\n",
    "Execute `bloco_1` se `expressao_booleana` for verdadeira, senão execute `bloco_2`."
   ]
  },
  {
   "cell_type": "code",
   "execution_count": null,
   "metadata": {
    "id": "PAqY62M7kLaA"
   },
   "outputs": [],
   "source": [
    "# sem operador ternário\n",
    "a = 10\n",
    "b = 20\n",
    "if a > b\n",
    "    maior = a\n",
    "else\n",
    "    maior = b\n",
    "print(\"O maior valor é\", maior)"
   ]
  },
  {
   "cell_type": "code",
   "execution_count": 6,
   "metadata": {
    "colab": {
     "base_uri": "https://localhost:8080/"
    },
    "executionInfo": {
     "elapsed": 3063,
     "status": "ok",
     "timestamp": 1757372920996,
     "user": {
      "displayName": "Artur Raimundi",
      "userId": "08927661116085333345"
     },
     "user_tz": 180
    },
    "id": "JLyZ1eHNkLSY",
    "outputId": "50fc1c3a-8aeb-49d4-e976-c34f4370851c"
   },
   "outputs": [
    {
     "name": "stdout",
     "output_type": "stream",
     "text": [
      "2\n",
      "par\n"
     ]
    }
   ],
   "source": [
    "# Resolução do exercício 2\n",
    "x = int(input(\"\"))\n",
    "\n",
    "print(\"par\") if x%2 == 0 else print(\"impar\")"
   ]
  },
  {
   "cell_type": "markdown",
   "metadata": {
    "id": "byZv7Wt57PmD"
   },
   "source": [
    "### Exercício 2: use o operador ternário para identificar e imprimir se o número informado pelo usuário é par ou é ímpar"
   ]
  },
  {
   "cell_type": "code",
   "execution_count": 5,
   "metadata": {
    "colab": {
     "base_uri": "https://localhost:8080/"
    },
    "executionInfo": {
     "elapsed": 8874,
     "status": "ok",
     "timestamp": 1757372917916,
     "user": {
      "displayName": "Artur Raimundi",
      "userId": "08927661116085333345"
     },
     "user_tz": 180
    },
    "id": "c5Yq64dSkLJh",
    "outputId": "7bede247-5347-4466-a92c-bc4760fd7d21"
   },
   "outputs": [
    {
     "name": "stdout",
     "output_type": "stream",
     "text": [
      "1\n",
      "impar\n"
     ]
    }
   ],
   "source": [
    "# Resolução do exercício 2\n",
    "x = int(input(\"\"))\n",
    "\n",
    "print(\"par\") if x%2 == 0 else print(\"impar\")"
   ]
  },
  {
   "cell_type": "markdown",
   "metadata": {
    "id": "rlqPqXS-_GXG"
   },
   "source": [
    "## if / else aninhados\n",
    "---"
   ]
  },
  {
   "cell_type": "markdown",
   "metadata": {
    "id": "lS0fz8nqSS7M"
   },
   "source": [
    "\n",
    "\n",
    "A estrutura `if`-`else` vista acima nos permite testar uma condição e decidir entre duas possibilidades diferentes. O que podemos fazer quando precisamos escolher entre um número maior de possibilidades?\n",
    "\n",
    "Um comando condicional executa um bloco de comandos.\n",
    "Dentro deste de bloco, podemos escrever outro comando condicional."
   ]
  },
  {
   "cell_type": "code",
   "execution_count": null,
   "metadata": {
    "id": "2GGKcTdiS0dL"
   },
   "outputs": [],
   "source": [
    "idade = int(input(\"Digite a sua idade: \"))\n",
    "if idade >= 16:\n",
    "    if idade >= 18 and idade < 70:\n",
    "        print(\"Você pode votar e é obrigado a votar\")\n",
    "    else:\n",
    "        print(\"Você pode votar, mas não é obrigado a votar\")\n",
    "else:\n",
    "    print(\"Você não pode votar\")"
   ]
  },
  {
   "cell_type": "markdown",
   "metadata": {
    "id": "fFigyKkfu-xZ"
   },
   "source": [
    "Note nos exemplos que um novo recuo (indentação) é criado a cada condicional interna para delimitar os escopos internos de cada comando condicional.\n",
    "\n",
    "Considerando o exemplo acima, podemos delimitar o escopo local de cada comando condicional usando as indentações.\n",
    "```python\n",
    "if idade >= 16:\n",
    "    if idade >= 18 and idade < 70:\n",
    "        print(\"Você pode votar e é obrigado a votar\")\n",
    "    else:\n",
    "        print(\"Você pode votar, mas não é obrigado a votar\")\n",
    "```\n",
    "```python\n",
    "    if idade >= 18 and idade < 70:\n",
    "        print(\"Você pode votar e é obrigado a votar\")\n",
    "```\n",
    "```python\n",
    "    else:\n",
    "        print(\"Você pode votar, mas não é obrigado a votar\")\n",
    "```\n",
    "```python\n",
    "else:\n",
    "    print(\"Você não pode votar\")\n",
    "```"
   ]
  },
  {
   "cell_type": "markdown",
   "metadata": {
    "id": "XX_Rok6D_Z6o"
   },
   "source": [
    "### Exercício 3: pergunte a idade em anos do usuário e o classifique quanto a sua categoria etária (criança até 12 anos, adolescente dos 13 aos 17 anos, adulto dos 18 aos 64 anos ou idoso se mais de 64 anos). Se o usuário digitar um número negativo ou maior que 150 anos o programa deve imprimir uma mensagem de erro."
   ]
  },
  {
   "cell_type": "code",
   "execution_count": null,
   "metadata": {
    "id": "Pt60pTI__aSI"
   },
   "outputs": [],
   "source": [
    "# Resolução do exercício 3\n",
    "\n",
    "anos = int(input())\n",
    "if anos > 0 or anos < 150:\n",
    "    if anos <= 12:\n",
    "        print(\"Criança\")\n",
    "    elif anos <= 17:\n",
    "        print(\"Adolescente\")\n",
    "    elif anos <= 64:\n",
    "        print(\"Adulto\")\n",
    "    else:\n",
    "        print(\"Idoso\")"
   ]
  },
  {
   "cell_type": "markdown",
   "metadata": {
    "id": "OuQvUfRB_LiH"
   },
   "source": [
    "## elif (senão se)\n",
    "---"
   ]
  },
  {
   "cell_type": "markdown",
   "metadata": {
    "id": "bjZ_5UwH80Oz"
   },
   "source": [
    "\n",
    "\n",
    "Algumas linguagens, como é o caso do Python, disponibilizam\n",
    "uma forma alternativa de realizar o `if` aninhado de forma mais\n",
    "enxuta com o comando `elif`.\n",
    "```python\n",
    "if expressao_booleana_1:\n",
    "    # Código recuado (indentado) que será executado apenas se a expressao_booleana_1 for avaliada como verdadeira\n",
    "elif expressao_booleana_2:\n",
    "    # Código recuado (indentado) que será executado apenas se a expressao_booleana_1 for avaliada como falsa e a expressao_booleana_2 for avaliada como verdadeira\n",
    "... # Pode conter múltiplso comandos elif\n",
    "else:\n",
    "    # Código recuado (indentado) que será executado apenas se todas as expressões booleanas forem avaliadas como falsa\n",
    "# Código que será executado após condicional\n",
    "```"
   ]
  },
  {
   "cell_type": "code",
   "execution_count": null,
   "metadata": {
    "id": "HBXzEvZPyOyH"
   },
   "outputs": [],
   "source": [
    "# If/Else aninhados\n",
    "uf = input(\"Informe a sigla do estado (UF): \")\n",
    "if uf == \"PR\":\n",
    "    print(\"Paraná\")\n",
    "else:\n",
    "    if uf == \"SC\":\n",
    "        print(\"Santa Catarina\")\n",
    "    else:\n",
    "        if uf == \"RS\":\n",
    "            print(\"Rio Grande do Sul\")\n",
    "        else:\n",
    "            print(\"Informação indisponível\")"
   ]
  },
  {
   "cell_type": "code",
   "execution_count": null,
   "metadata": {
    "id": "xobpOrBJ9Keo"
   },
   "outputs": [],
   "source": [
    "# Usando o comando elif\n",
    "uf = input(\"Informe a sigla do estado (UF): \")\n",
    "if uf == \"PR\":\n",
    "    print(\"Paraná\")\n",
    "elif uf == \"SC\":\n",
    "    print(\"Santa Catarina\")\n",
    "elif uf == \"RS\":\n",
    "    print(\"Rio Grande do Sul\")\n",
    "else:\n",
    "    print(\"Informação indisponível\")"
   ]
  },
  {
   "cell_type": "markdown",
   "metadata": {
    "id": "vrgXl8G1-9_a"
   },
   "source": [
    "# Atividades Extra Classe\n",
    "---"
   ]
  },
  {
   "cell_type": "markdown",
   "metadata": {
    "id": "sziUnkZT3scp"
   },
   "source": [
    "### Atividade 1\n",
    "\n",
    "Faça um programa que leia 2 números e informe se o primeiro é ou não múltiplo do segundo.\n",
    "\n"
   ]
  },
  {
   "cell_type": "code",
   "execution_count": null,
   "metadata": {
    "id": "ts-Wj0Qb3omI"
   },
   "outputs": [],
   "source": [
    "# Resolução da atividade 1\n",
    "n1 = int(input())\n",
    "n2 = int(input())\n",
    "\n",
    "if n1%n2 == 0:\n",
    "    print(\"Multiplo\")\n",
    "else:\n",
    "    print(\"Nao multiplo\")"
   ]
  },
  {
   "cell_type": "markdown",
   "metadata": {
    "id": "PeIc3LQg2NJS"
   },
   "source": [
    "### Atividade 2\n",
    "\n",
    "Escreva um programa para ler\to\tano\tde fabricação de um veículo\te informar ao usuário se ele é isento ou não do pagamento de IPVA.\n",
    "\n",
    "Considere que o veículo se torna isento após 30 anos de sua fabricação."
   ]
  },
  {
   "cell_type": "code",
   "execution_count": null,
   "metadata": {
    "id": "1dEdZ2AZ235t"
   },
   "outputs": [],
   "source": [
    "# Resolução da atividade 2\n",
    "ano = int(input())\n",
    "if 2025-ano >= 30:\n",
    "    print(\"isento\")\n",
    "else:\n",
    "    print(\"nao isento\")"
   ]
  },
  {
   "cell_type": "markdown",
   "metadata": {
    "id": "II-LWNsl23UK"
   },
   "source": [
    "### Atividade 3\n",
    "\n",
    "Uma fruteira vende maçãs com 2 preços, R\\$ 0,30 cada, para compras de até 12 unidades, e R\\$ 0,25 cada, para compras acima de 12 unidades.\n",
    "\n",
    "Faça um programa que leia a quantidade de maçãs compradas, calcule e apresente o valor a ser pago pelo cliente."
   ]
  },
  {
   "cell_type": "code",
   "execution_count": 8,
   "metadata": {
    "colab": {
     "base_uri": "https://localhost:8080/"
    },
    "executionInfo": {
     "elapsed": 1116,
     "status": "ok",
     "timestamp": 1757376877450,
     "user": {
      "displayName": "Artur Raimundi",
      "userId": "08927661116085333345"
     },
     "user_tz": 180
    },
    "id": "dVphAtG73SJC",
    "outputId": "e3b18132-ef30-4f6e-e1ca-0bc5351b779f"
   },
   "outputs": [
    {
     "name": "stdout",
     "output_type": "stream",
     "text": [
      "2\n",
      "0.6\n"
     ]
    }
   ],
   "source": [
    "# Resolução da atividade 3\n",
    "qtd = int(input())\n",
    "\n",
    "if qtd <= 12:\n",
    "    print(qtd*0.30)\n",
    "else:\n",
    "    print(qtd*0.25)"
   ]
  },
  {
   "cell_type": "markdown",
   "metadata": {
    "id": "xo8rMpQK64mE"
   },
   "source": [
    "### Atividade 4\n",
    "\n",
    "Uma loja vende produtos à vista e a prazo. À vista é concedido um desconto de 5% e a prazo há um acréscimo de 10%.\n",
    "\n",
    "Faça um programa que leia o preço do produto e a forma de pagamento. Depois, apresente o preço final do produto."
   ]
  },
  {
   "cell_type": "code",
   "execution_count": 11,
   "metadata": {
    "colab": {
     "base_uri": "https://localhost:8080/"
    },
    "executionInfo": {
     "elapsed": 4391,
     "status": "ok",
     "timestamp": 1757377035167,
     "user": {
      "displayName": "Artur Raimundi",
      "userId": "08927661116085333345"
     },
     "user_tz": 180
    },
    "id": "d_tfbXNZ7GNw",
    "outputId": "40107f31-1311-4fff-a6bb-9e510a294e94"
   },
   "outputs": [
    {
     "name": "stdout",
     "output_type": "stream",
     "text": [
      "1 = a vista 2 = a prazo\n",
      "2\n",
      "10\n",
      "11.0\n"
     ]
    }
   ],
   "source": [
    "# Resolução da atividade 4\n",
    "print(\"1 = a vista 2 = a prazo\")\n",
    "c = int(input())\n",
    "prec = float(input())\n",
    "\n",
    "if c == 1:\n",
    "    print(prec-prec*0.05)\n",
    "else:\n",
    "    print(prec+prec*0.1)"
   ]
  },
  {
   "cell_type": "markdown",
   "metadata": {
    "id": "egBtdieh3Seh"
   },
   "source": [
    "### Atividade 5\n",
    "\n",
    "Escreva\tum\tprograma\tpara\tler\t2\tvalores\tinteiros e\tindicar qual dos dois valores é o maior, ou se eles são iguais."
   ]
  },
  {
   "cell_type": "code",
   "execution_count": null,
   "metadata": {
    "id": "NjGZKMYWDTyu"
   },
   "outputs": [],
   "source": [
    "# Resolução da atividade 5\n",
    "x = int(input())\n",
    "y = int(input())\n",
    "\n",
    "if x > y:\n",
    "    print(\"n1 > n2\")\n",
    "elif x < y:\n",
    "    print(\"n1 < n2\")\n",
    "else:\n",
    "    print(\"iguais\")"
   ]
  },
  {
   "cell_type": "markdown",
   "metadata": {
    "id": "vyz2pIOK5ptU"
   },
   "source": [
    "### Atividade 6\n",
    "\n",
    "Faça um programa que funcione como uma calculadora simples. Leia dois valores numéricos e a operação aritmética a ser executada (+, -, / ou *), calcule e exiba o resultado da referida operação.\n",
    "\n",
    "O programa deve avisar o usuário se foi digitada uma\n",
    "operação inválida."
   ]
  },
  {
   "cell_type": "code",
   "execution_count": null,
   "metadata": {
    "id": "X-shx2UC5uxX"
   },
   "outputs": [],
   "source": [
    "# Resolução da atividade 6\n",
    "n1 = float(input(\"\"))\n",
    "n2 = float(input(\"\"))\n",
    "opc = input(\"\")\n",
    "\n",
    "if opc == \"+\":\n",
    "    print(n1+n2)\n",
    "elif opc == \"-\":\n",
    "    print(n1-n2)\n",
    "elif opc == \"/\":\n",
    "    print(n1/n2)\n",
    "elif opc == \"*\":\n",
    "    print(n1*n2)"
   ]
  },
  {
   "cell_type": "markdown",
   "metadata": {
    "id": "zkIXOhkr2ihv"
   },
   "source": [
    "### Atividade 7 (crédito ao Angemydelson Saint-Bert)\n",
    "\n",
    "Construir um programa que leia dois números e efetue a adição. Caso o valor somado seja maior que 20, este deverá ser apresentado somando-se a ele mais 8;\n",
    "caso o valor somado seja menor ou igual a 20, este deverá ser apresentado subtraindo-se 5."
   ]
  },
  {
   "cell_type": "code",
   "execution_count": null,
   "metadata": {
    "id": "yfMBMyyhrc6j"
   },
   "outputs": [],
   "source": [
    "# Resolução da atividade 7\n",
    "n1 = int(input())\n",
    "n2 = int(input())\n",
    "\n",
    "sum = n1+n2\n",
    "\n",
    "if sum > 20:\n",
    "    print(sum+8)\n",
    "else:\n",
    "    print(sum-5)"
   ]
  },
  {
   "cell_type": "markdown",
   "metadata": {
    "id": "wWiplCN1r5xt"
   },
   "source": [
    "### Atividade 8 (crédito ao Angemydelson Saint-Bert)\n",
    "\n",
    "A prefeitura de Chapecó abriu uma linha de crédito para os funcionários. O valor máximo da prestação não poderá ultrapassar 30% do salário\n",
    "bruto.\n",
    "\n",
    "Fazer um algoritmo que permita entrar com o salário bruto e o valor da\n",
    "prestação e informar se o empréstimo pode ou não ser concedido."
   ]
  },
  {
   "cell_type": "code",
   "execution_count": null,
   "metadata": {
    "id": "_KB78nf2sRjJ"
   },
   "outputs": [],
   "source": [
    "# Resolução da atividade 8\n",
    "sal = float(input())\n",
    "parc = float(input())\n",
    "\n",
    "if parc >= sal*0.3:\n",
    "    print(\"nao concedido\")\n",
    "else:\n",
    "    print(\"concedido\")"
   ]
  },
  {
   "cell_type": "markdown",
   "metadata": {
    "id": "ohbs_tSAwdrq"
   },
   "source": [
    "### Atividade 9\n",
    "Adapte o programa abaixo mudando a expressão booleana do segundo comando `if`. Ao invés de usar o operador `and` na expressão booleana, mude a expressão para usar o operador `or` mantendo o mesmo comportamento lógico.\n",
    "\n",
    "```python\n",
    "idade = int(input(\"Digite a sua idade: \"))\n",
    "if idade >= 16:\n",
    "    if idade >= 18 and idade < 70:\n",
    "        print(\"Você pode votar e é obrigado a votar\")\n",
    "    else:\n",
    "        print(\"Você pode votar, mas não é obrigado a votar\")\n",
    "else:\n",
    "    print(\"Você não pode votar\")\n",
    "```"
   ]
  },
  {
   "cell_type": "code",
   "execution_count": null,
   "metadata": {
    "id": "m7LduM0xwd9-"
   },
   "outputs": [],
   "source": [
    "# Resolução da atividade 9\n",
    "#errado\n",
    "idade = int(input(\"Digite a sua idade: \"))\n",
    "if idade >= 16:\n",
    "    if idade >= 18:\n",
    "        if(idade < 70):\n",
    "            print(\"Você pode votar e é obrigado a votar\")\n",
    "\n",
    "\n",
    "    else:\n",
    "        print(\"Você pode votar, mas não é obrigado a votar\")\n",
    "else:\n",
    "    print(\"Você não pode votar\")\n"
   ]
  },
  {
   "cell_type": "markdown",
   "metadata": {
    "id": "hVMGWgtO3u-m"
   },
   "source": [
    "### Atividade 10\n",
    "\n",
    "Escreva um programa que leia 3 valores inteiros `a`, `b` e `c` e informe se eles representam os lados de um triângulo.\n",
    "\n",
    "Três valores podem representar os lados de um triângulo se e somente se a soma de quaisquer 2 lados for maior que o terceiro lado."
   ]
  },
  {
   "cell_type": "code",
   "execution_count": null,
   "metadata": {
    "id": "_lNW7ztC4V7E"
   },
   "outputs": [],
   "source": [
    "# Resolução da atividade 10\n",
    "a = int(input())\n",
    "b = int(input())\n",
    "c = int(input())\n",
    "\n",
    "if a+b < c:\n",
    "    print(\"errado\")\n",
    "if a+c < b:\n",
    "    print(\"errado\")\n",
    "if c+b < a:\n",
    "    print(\"errado\")"
   ]
  },
  {
   "cell_type": "markdown",
   "metadata": {
    "id": "kS6n-8D0zyHG"
   },
   "source": [
    "### Atividade 11\n",
    "Faça uma nova versão da atividade acima de modo que, caso os 3 valores formem um triângulo, o programa informe também qual o seu tipo: equilátero, isósceles ou escaleno."
   ]
  },
  {
   "cell_type": "code",
   "execution_count": 14,
   "metadata": {
    "colab": {
     "base_uri": "https://localhost:8080/"
    },
    "executionInfo": {
     "elapsed": 2974,
     "status": "ok",
     "timestamp": 1757377841954,
     "user": {
      "displayName": "Artur Raimundi",
      "userId": "08927661116085333345"
     },
     "user_tz": 180
    },
    "id": "oU41i3vP5YVk",
    "outputId": "12f9175f-73a1-4d98-d0df-064ee00dbccf"
   },
   "outputs": [
    {
     "name": "stdout",
     "output_type": "stream",
     "text": [
      "5\n",
      "4\n",
      "3\n",
      "escaleno\n"
     ]
    }
   ],
   "source": [
    "# Resolução da atividade 11\n",
    "\n",
    "a = int(input())\n",
    "b = int(input())\n",
    "c = int(input())\n",
    "\n",
    "if a+b < c or a+c < b or c+b < a:\n",
    "    print(\"errado\")\n",
    "else:\n",
    "    if a == b and a == c:\n",
    "        print(\"equilatero\")\n",
    "    elif a == b:\n",
    "        print(\"isosceles\")\n",
    "    elif a == c:\n",
    "        print(\"isosceles\")\n",
    "    elif c == b:\n",
    "        print(\"isosceles\")\n",
    "    else:\n",
    "        print(\"escaleno\")"
   ]
  }
 ],
 "metadata": {
  "colab": {
   "provenance": []
  },
  "kernelspec": {
   "display_name": "Python 3",
   "name": "python3"
  },
  "language_info": {
   "name": "python",
   "version": "3.13.2"
  }
 },
 "nbformat": 4,
 "nbformat_minor": 0
}
